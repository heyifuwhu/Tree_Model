{
 "cells": [
  {
   "cell_type": "markdown",
   "metadata": {},
   "source": [
    "# Part 1 Binomial Tree\n",
    "## Question(a) "
   ]
  },
  {
   "cell_type": "code",
   "execution_count": 62,
   "metadata": {},
   "outputs": [],
   "source": [
    "import math\n",
    "import numpy as np\n",
    "import pandas as pd"
   ]
  },
  {
   "cell_type": "markdown",
   "metadata": {},
   "source": [
    "### Additive binomial tree model of European Option"
   ]
  },
  {
   "cell_type": "code",
   "execution_count": 63,
   "metadata": {},
   "outputs": [],
   "source": [
    "def additive_binomial_European(Option_type,S,K,r,vol,T,N):\n",
    "    \n",
    "    \"\"\"\n",
    "    \n",
    "    \"\"\"\n",
    "    # precompute constants\n",
    "    dt = T/N \n",
    "    nu = r - 0.5 * vol**2\n",
    "    xu = math.sqrt(dt * (vol**2)+ (nu**2) * (dt ** 2))\n",
    "    xd = -xu\n",
    "    pu = 0.5 +0.5*((nu*dt)/xu)\n",
    "    pd = 1-pu\n",
    "    discount = np.exp(-r*dt)\n",
    "    \n",
    "    # initialize asset price\n",
    "    St = S*np.exp(np.asarray([(N-i)*xu + i*xd for i in range(N+1)]))\n",
    "    # initialize value at maturity\n",
    "    if Option_type == \"call\":\n",
    "        C = np.where(St >= K, St-K,0)\n",
    "    if Option_type == \"put\":\n",
    "        C = np.where(K >= St, K-St,0)\n",
    "   \n",
    "    # calculate the option price\n",
    "    while (len(C) >1):\n",
    "        C = discount*(pu*C[:-1]+pd*C[1:])\n",
    "    return C[0]"
   ]
  },
  {
   "cell_type": "code",
   "execution_count": 100,
   "metadata": {},
   "outputs": [
    {
     "name": "stdout",
     "output_type": "stream",
     "text": [
      "call: 11.59199120790945\n",
      "put: 5.790437575507733\n"
     ]
    }
   ],
   "source": [
    "S=100\n",
    "K=100\n",
    "r=0.06\n",
    "vol=0.2\n",
    "T=1\n",
    "N=3\n",
    "\n",
    "print(f'European_call: {additive_binomial_European(\"call\",S,K,r,vol,T,N)}')\n",
    "print(f'European_put: {additive_binomial_European(\"put\",S,K,r,vol,T,N)}')"
   ]
  },
  {
   "cell_type": "markdown",
   "metadata": {},
   "source": [
    "### Additive binomial tree model of American Option"
   ]
  },
  {
   "cell_type": "code",
   "execution_count": 102,
   "metadata": {},
   "outputs": [],
   "source": [
    "def additive_binomial_American(Option_type,S,K,r,vol,T,N):\n",
    "    \n",
    "    \"\"\"\n",
    "    \n",
    "    \"\"\"\n",
    "    # precompute constants\n",
    "    dt = T/N \n",
    "    nu = r - 0.5 * vol**2\n",
    "    xu = math.sqrt(dt * (vol**2)+ (nu**2) * (dt ** 2))\n",
    "    xd = -xu\n",
    "    pu = 0.5 +0.5*((nu*dt)/xu)\n",
    "    pd = 1-pu\n",
    "    discount = np.exp(-r*dt)\n",
    "    \n",
    "    # initialize asset price\n",
    "    St = S*np.exp(np.asarray([(N-i)*xu + i*xd for i in range(N+1)]))\n",
    "    # initialize value at maturity \n",
    "    if Option_type == \"call\":\n",
    "        C = np.where(St >= K, St-K,0)\n",
    "        while (len(C) >1):\n",
    "            C = discount*(pu*C[:-1]+pd*C[1:])\n",
    "            St = np.exp(xd)*St[:-1]\n",
    "            C = np.where(C >= (St-K), C, St-K)\n",
    "\n",
    "    if Option_type == \"put\":\n",
    "        C = np.where(K >= St, K-St,0)\n",
    "        while (len(C) >1):\n",
    "            C = discount*(pu*C[:-1]+pd*C[1:])\n",
    "            St = np.exp(xd)*St[:-1]\n",
    "            C = np.where(C >= (K-St), C, K-St)\n",
    "    return C[0]"
   ]
  },
  {
   "cell_type": "code",
   "execution_count": 101,
   "metadata": {},
   "outputs": [
    {
     "name": "stdout",
     "output_type": "stream",
     "text": [
      "call: 11.59199120790945\n",
      "put: 6.162109199031009\n"
     ]
    }
   ],
   "source": [
    "S=100\n",
    "K=100\n",
    "r=0.06\n",
    "vol=0.2\n",
    "T=1\n",
    "N=3\n",
    "print(f'American_call: {additive_binomial_American(\"call\",S,K,r,vol,T,N)}')\n",
    "print(f'American_put: {additive_binomial_American(\"put\",S,K,r,vol,T,N)}')"
   ]
  },
  {
   "cell_type": "markdown",
   "metadata": {},
   "source": [
    "### Multiplicative tree model of European Option\n"
   ]
  },
  {
   "cell_type": "code",
   "execution_count": 68,
   "metadata": {},
   "outputs": [],
   "source": [
    "def multiplicative_tree_European(Option_type,S,K,r,N,T,u,d):\n",
    "    dt = T/N\n",
    "    p = (np.exp(r*dt)-d)/(u-d)\n",
    "    disc = np.exp(-r*dt)\n",
    "    \n",
    "    # initialize asset price\n",
    "    St = np.asarray([(S * u**(N-i)) * (d**i) for i in range(N+1)])\n",
    "    \n",
    "    # call\n",
    "    if Option_type == \"call\":\n",
    "        #initialize value at maturity\n",
    "        C = np.where(St >= K, St-K,0)\n",
    "        while(len(C) >1):\n",
    "            C = disc*(p*C[:-1]+(1-p)*C[1:])\n",
    "   \n",
    "    # put\n",
    "    elif Option_type == \"put\":\n",
    "        #initialize value at maturity\n",
    "        C = np.where(St <= K, K-St,0)\n",
    "        while(len(C) >1):\n",
    "            C = disc*(p*C[:-1]+(1-p)*C[1:])\n",
    "   \n",
    "    return C[0]"
   ]
  },
  {
   "cell_type": "code",
   "execution_count": 69,
   "metadata": {},
   "outputs": [
    {
     "data": {
      "text/plain": [
       "10.145735799928826"
      ]
     },
     "execution_count": 69,
     "metadata": {},
     "output_type": "execute_result"
    }
   ],
   "source": [
    "Option_type = \"call\"\n",
    "S=100\n",
    "K=100\n",
    "T=1\n",
    "r=0.06\n",
    "N=3\n",
    "u=1.1\n",
    "d=1/u\n",
    "multiplicative_tree_European(Option_type,S,K,r,N,T,u,d)"
   ]
  },
  {
   "cell_type": "code",
   "execution_count": 70,
   "metadata": {},
   "outputs": [
    {
     "data": {
      "text/plain": [
       "4.322189158353709"
      ]
     },
     "execution_count": 70,
     "metadata": {},
     "output_type": "execute_result"
    }
   ],
   "source": [
    "Option_type = \"put\"\n",
    "S=100\n",
    "K=100\n",
    "T=1\n",
    "r=0.06\n",
    "N=3\n",
    "u=1.1\n",
    "d=1/u\n",
    "\n",
    "multiplicative_tree_European(Option_type,S,K,r,N,T,u,d)"
   ]
  },
  {
   "cell_type": "markdown",
   "metadata": {},
   "source": [
    "### Multiplicative tree model of American Option\n",
    "\n"
   ]
  },
  {
   "cell_type": "code",
   "execution_count": 71,
   "metadata": {},
   "outputs": [],
   "source": [
    "def multiplicative_tree_American(Option_type,S,K,r,N,T,u,d):\n",
    "    dt = T/N\n",
    "    p = (np.exp(r*dt)-d)/(u-d)\n",
    "    disc = np.exp(-r*dt)\n",
    "    \n",
    "    # initialize asset price\n",
    "    St = np.asarray([(S * u**(N-i)) * (d**i) for i in range(N+1)])\n",
    "    \n",
    "    # call\n",
    "    if Option_type == \"call\":\n",
    "        #initialize value at maturity\n",
    "        C = np.where(St >= K, St-K,0)\n",
    "        while(len(C) >1):\n",
    "            C = disc*(p*C[:-1]+(1-p)*C[1:])\n",
    "            St = St[:-1]/u\n",
    "            C = np.where(C>(St-K),C,St-K)\n",
    "   \n",
    "    # put\n",
    "    elif Option_type == \"put\":\n",
    "        #initialize value at maturity\n",
    "        C = np.where(St <= K, K-St,0)\n",
    "        while(len(C) >1):\n",
    "            C = disc*(p*C[:-1]+(1-p)*C[1:])\n",
    "            St = St[:-1]/u\n",
    "            C = np.where(C>(K-St),C,K-St)\n",
    "   \n",
    "    return C[0]"
   ]
  },
  {
   "cell_type": "code",
   "execution_count": 72,
   "metadata": {},
   "outputs": [
    {
     "data": {
      "text/plain": [
       "10.145735799928826"
      ]
     },
     "execution_count": 72,
     "metadata": {},
     "output_type": "execute_result"
    }
   ],
   "source": [
    "Option_type = \"call\"\n",
    "S=100\n",
    "K=100\n",
    "T=1\n",
    "r=0.06\n",
    "N=3\n",
    "u=1.1\n",
    "d=1/u\n",
    "multiplicative_tree_American(Option_type,S,K,r,N,T,u,d)"
   ]
  },
  {
   "cell_type": "code",
   "execution_count": 73,
   "metadata": {},
   "outputs": [
    {
     "data": {
      "text/plain": [
       "4.654588754602527"
      ]
     },
     "execution_count": 73,
     "metadata": {},
     "output_type": "execute_result"
    }
   ],
   "source": [
    "Option_type = \"put\"\n",
    "S=100\n",
    "K=100\n",
    "T=1\n",
    "r=0.06\n",
    "N=3\n",
    "u=1.1\n",
    "d=1/u\n",
    "multiplicative_tree_American(Option_type,S,K,r,N,T,u,d)"
   ]
  },
  {
   "cell_type": "markdown",
   "metadata": {},
   "source": [
    "### General formulation of multiplicative tree model of European Option\n",
    "\n",
    "\n"
   ]
  },
  {
   "cell_type": "code",
   "execution_count": 74,
   "metadata": {},
   "outputs": [],
   "source": [
    "def gen_multiplicative_tree_European(Option_type,S,K,r,N,T,vol):\n",
    "    dt = T/N\n",
    "    u = np.exp(vol*np.sqrt(dt))\n",
    "    d = 1/u\n",
    "    p = 0.5 + 0.5*np.sqrt(dt)*(r - 0.5*vol**2)/vol\n",
    "    disc = np.exp(-r*dt)\n",
    "    \n",
    "    # initialize asset price\n",
    "    St = np.asarray([(S * u**(N-i)) * (d**i) for i in range(N+1)])\n",
    "    \n",
    "    # call\n",
    "    if Option_type == \"call\":\n",
    "        #initialize value at maturity\n",
    "        C = np.where(St >= K, St-K,0)\n",
    "        while(len(C) >1):\n",
    "            C = disc*(p*C[:-1]+(1-p)*C[1:])\n",
    "   \n",
    "    # put\n",
    "    elif Option_type == \"put\":\n",
    "        #initialize value at maturity\n",
    "        C = np.where(St <= K, K-St,0)\n",
    "        while(len(C) >1):\n",
    "            C = disc*(p*C[:-1]+(1-p)*C[1:])\n",
    "   \n",
    "    return C[0]"
   ]
  },
  {
   "cell_type": "code",
   "execution_count": 103,
   "metadata": {},
   "outputs": [
    {
     "name": "stdout",
     "output_type": "stream",
     "text": [
      "European_call: 13.55810818183727\n",
      "European_put: 7.778644249539468\n"
     ]
    }
   ],
   "source": [
    "S=100\n",
    "K=100\n",
    "T=1\n",
    "r=0.06\n",
    "N=3\n",
    "vol = 0.25\n",
    "print(f'European_call: {gen_multiplicative_tree_European(\"call\",S,K,r,N,T,vol)}')\n",
    "print(f'European_put: {gen_multiplicative_tree_European(\"put\",S,K,r,N,T,vol)}')"
   ]
  },
  {
   "cell_type": "markdown",
   "metadata": {},
   "source": [
    "### General formulation of multiplicative tree model of American Option\n",
    "\n",
    "\n",
    "\n"
   ]
  },
  {
   "cell_type": "code",
   "execution_count": 77,
   "metadata": {},
   "outputs": [],
   "source": [
    "def gen_multiplicative_tree_American(Option_type,S,K,r,N,T,vol):\n",
    "    dt = T/N\n",
    "    u = np.exp(vol*np.sqrt(dt))\n",
    "    d = 1/u\n",
    "    p = 0.5 + 0.5*np.sqrt(dt)*(r - 0.5*vol**2)/vol\n",
    "    disc = np.exp(-r*dt)\n",
    "    \n",
    "    # initialize asset price\n",
    "    St = np.asarray([(S * u**(N-i)) * (d**i) for i in range(N+1)])\n",
    "    \n",
    "    # call\n",
    "    if Option_type == \"call\":\n",
    "        #initialize value at maturity\n",
    "        C = np.where(St >= K, St-K,0)\n",
    "        while(len(C) >1):\n",
    "            C = disc*(p*C[:-1]+(1-p)*C[1:])\n",
    "            St = St[:-1]/u\n",
    "            C = np.where(C>(St-K),C,St-K)\n",
    "   \n",
    "    # put\n",
    "    elif Option_type == \"put\":\n",
    "        #initialize value at maturity\n",
    "        C = np.where(St <= K, K-St,0)\n",
    "        while(len(C) >1):\n",
    "            C = disc*(p*C[:-1]+(1-p)*C[1:])\n",
    "            St = St[:-1]/u\n",
    "            C = np.where(C>(K-St),C,K-St)\n",
    "   \n",
    "    return C[0]"
   ]
  },
  {
   "cell_type": "code",
   "execution_count": 104,
   "metadata": {},
   "outputs": [
    {
     "name": "stdout",
     "output_type": "stream",
     "text": [
      "American_call: 13.55810818183727\n",
      "American_put: 8.190900053547779\n"
     ]
    }
   ],
   "source": [
    "S=100\n",
    "K=100\n",
    "T=1\n",
    "r=0.06\n",
    "N=3\n",
    "vol = 0.25\n",
    "print(f'American_call: {gen_multiplicative_tree_European(\"call\",S,K,r,N,T,vol)}')\n",
    "print(f'American_put: {gen_multiplicative_tree_American(\"put\",S,K,r,N,T,vol)}')"
   ]
  },
  {
   "cell_type": "markdown",
   "metadata": {},
   "source": [
    "## Question(b)\n"
   ]
  },
  {
   "cell_type": "code",
   "execution_count": 92,
   "metadata": {},
   "outputs": [],
   "source": [
    "import pandas as pd\n",
    "from math import log as log\n",
    "from math import sqrt as sqrt\n",
    "from math import exp as exp\n",
    "from scipy.stats import norm\n",
    "from numpy import nan\n",
    "\n",
    "def BSM(Option_type,S,K,vol,T,r):\n",
    "    \"\"\"\n",
    "    Black-Scholes Model\n",
    "    \n",
    "    Option_type: \"call\" or \"put\"\n",
    "    S: spot price\n",
    "    K: strike price\n",
    "    vol : volatility\n",
    "    T : Maturity\n",
    "    r: risk-free rate\n",
    "    \n",
    "    \"\"\"\n",
    "    d1 = (log(S / K) + (r + 0.5 * vol**2) * T )/ (vol * sqrt(T))\n",
    "    d2 = d1 - vol * sqrt(T)       \n",
    "    if Option_type == \"call\":\n",
    "        Option = S * norm.cdf(d1) - K * exp(-r * T)*norm.cdf(d2)\n",
    "        return Option\n",
    "    elif Option_type == \"put\":\n",
    "        Option = K * exp(-r * T) * norm.cdf(-d2) - S * norm.cdf(-d1)\n",
    "        return Option\n",
    "    else:\n",
    "        return \"Error: parameter Option_type only takes in 'call or 'put'\" \n",
    "    \n",
    "\n",
    "def bisection(left, right, f, epsilon):\n",
    "    \"\"\"\n",
    "    bisection root-finding method\n",
    "    \n",
    "    left : the left side of the interval \n",
    "    right : the right side of the interval\n",
    "    f : the function\n",
    "    epsilon : the error to tolerate\n",
    "    \n",
    "    \"\"\"\n",
    "    if f(left)*f(right)>0:\n",
    "        return nan\n",
    "        #return \"No root exists in ({},{})\".format(a,b)\n",
    "    elif abs(f(left)) < epsilon:\n",
    "        return left\n",
    "    elif abs(f(right)) < epsilon:\n",
    "        return right\n",
    "    else:\n",
    "        while abs(f((left + right) / 2)) > epsilon:\n",
    "            if f(left)* f((left + right) / 2) < 0:\n",
    "                right =(left + right) / 2\n",
    "            elif f(left)* f((left + right) / 2) > 0:\n",
    "                left=(left + right) / 2 \n",
    "        return (left + right) / 2\n",
    "\n",
    "def implied_vol(Option_type,S,K,T,r,p_market):\n",
    "    def f(x):\n",
    "        return BSM(Option_type,S,K,x,T,r) - p_market\n",
    "    return f"
   ]
  },
  {
   "cell_type": "code",
   "execution_count": 93,
   "metadata": {},
   "outputs": [],
   "source": [
    "path = \"/Users/yifuhe/Desktop/\"\n",
    "data = pd.read_csv(path+\"SPY_data2.csv\")\n",
    "\n",
    "data1 =data[(data[\"Expiry\"]==\"2019-02-15\") & (data[\"Strike\"] >= 264) & (data[\"Strike\"] <= 274)]\n",
    "data2 =data[(data[\"Expiry\"]==\"2019-03-15\") & (data[\"Strike\"] >= 263) & (data[\"Strike\"] <= 282)]\n",
    "data3 =data[(data[\"Expiry\"]==\"2019-04-18\") & (data[\"Strike\"] >= 268) & (data[\"Strike\"] <= 277)]   \n",
    "\n",
    "data1 = pd.concat([data1,data1,data3],axis=0).reset_index()\n",
    "data1[\"Option\"] = (data1[\"Ask\"] + data1[\"Bid\"])/2\n",
    "data1[\"implied_vol\"] = 0\n",
    "for i in range(len(data1)):\n",
    "    data1.loc[i,\"implied_vol\"] = bisection(0.01,3,implied_vol(\n",
    "    data1[\"Type\"][i],\n",
    "    float(data1[\"Underlying_Price\"][i]),\n",
    "    float(data1[\"Strike\"][i]),\n",
    "    float(data1[\"Maturity\"][i]),\n",
    "    0.0075,\n",
    "    float(data1[\"Option\"][i])),\n",
    "    1.e-6)\n",
    "\n",
    "    \n",
    "for i in range(len(data1)):\n",
    "    data1.loc[i,\"American\"] = additive_binomial_American(data1[\"Type\"][i],\n",
    "             data1[\"Underlying_Price\"][i],\n",
    "             data1[\"Strike\"][i],\n",
    "             0.0075,\n",
    "             data1[\"implied_vol\"][i],\n",
    "             data1[\"Maturity\"][i],200)\n",
    "for i in range(len(data1)):\n",
    "    data1.loc[i,\"European\"] = additive_binomial_European(data1[\"Type\"][i],\n",
    "             data1[\"Underlying_Price\"][i],\n",
    "             data1[\"Strike\"][i],\n",
    "             0.0075,\n",
    "             data1[\"implied_vol\"][i],\n",
    "             data1[\"Maturity\"][i],200)"
   ]
  },
  {
   "cell_type": "code",
   "execution_count": 99,
   "metadata": {
    "scrolled": true
   },
   "outputs": [
    {
     "name": "stdout",
     "output_type": "stream",
     "text": [
      "I only show the first 10 rows\n"
     ]
    },
    {
     "data": {
      "text/html": [
       "<div>\n",
       "<style scoped>\n",
       "    .dataframe tbody tr th:only-of-type {\n",
       "        vertical-align: middle;\n",
       "    }\n",
       "\n",
       "    .dataframe tbody tr th {\n",
       "        vertical-align: top;\n",
       "    }\n",
       "\n",
       "    .dataframe thead th {\n",
       "        text-align: right;\n",
       "    }\n",
       "</style>\n",
       "<table border=\"1\" class=\"dataframe\">\n",
       "  <thead>\n",
       "    <tr style=\"text-align: right;\">\n",
       "      <th></th>\n",
       "      <th>European</th>\n",
       "      <th>American</th>\n",
       "      <th>Market_P</th>\n",
       "    </tr>\n",
       "  </thead>\n",
       "  <tbody>\n",
       "    <tr>\n",
       "      <th>0</th>\n",
       "      <td>9.534966</td>\n",
       "      <td>9.534966</td>\n",
       "      <td>9.535</td>\n",
       "    </tr>\n",
       "    <tr>\n",
       "      <th>1</th>\n",
       "      <td>0.093969</td>\n",
       "      <td>0.094247</td>\n",
       "      <td>0.095</td>\n",
       "    </tr>\n",
       "    <tr>\n",
       "      <th>2</th>\n",
       "      <td>8.504941</td>\n",
       "      <td>8.504941</td>\n",
       "      <td>8.505</td>\n",
       "    </tr>\n",
       "    <tr>\n",
       "      <th>3</th>\n",
       "      <td>0.114732</td>\n",
       "      <td>0.115055</td>\n",
       "      <td>0.115</td>\n",
       "    </tr>\n",
       "    <tr>\n",
       "      <th>4</th>\n",
       "      <td>7.534232</td>\n",
       "      <td>7.534232</td>\n",
       "      <td>7.535</td>\n",
       "    </tr>\n",
       "    <tr>\n",
       "      <th>5</th>\n",
       "      <td>0.154733</td>\n",
       "      <td>0.155207</td>\n",
       "      <td>0.155</td>\n",
       "    </tr>\n",
       "    <tr>\n",
       "      <th>6</th>\n",
       "      <td>6.604224</td>\n",
       "      <td>6.604224</td>\n",
       "      <td>6.605</td>\n",
       "    </tr>\n",
       "    <tr>\n",
       "      <th>7</th>\n",
       "      <td>0.204658</td>\n",
       "      <td>0.205353</td>\n",
       "      <td>0.205</td>\n",
       "    </tr>\n",
       "    <tr>\n",
       "      <th>8</th>\n",
       "      <td>5.695558</td>\n",
       "      <td>5.695558</td>\n",
       "      <td>5.695</td>\n",
       "    </tr>\n",
       "    <tr>\n",
       "      <th>9</th>\n",
       "      <td>0.264440</td>\n",
       "      <td>0.265452</td>\n",
       "      <td>0.265</td>\n",
       "    </tr>\n",
       "  </tbody>\n",
       "</table>\n",
       "</div>"
      ],
      "text/plain": [
       "   European  American  Market_P\n",
       "0  9.534966  9.534966     9.535\n",
       "1  0.093969  0.094247     0.095\n",
       "2  8.504941  8.504941     8.505\n",
       "3  0.114732  0.115055     0.115\n",
       "4  7.534232  7.534232     7.535\n",
       "5  0.154733  0.155207     0.155\n",
       "6  6.604224  6.604224     6.605\n",
       "7  0.204658  0.205353     0.205\n",
       "8  5.695558  5.695558     5.695\n",
       "9  0.264440  0.265452     0.265"
      ]
     },
     "execution_count": 99,
     "metadata": {},
     "output_type": "execute_result"
    }
   ],
   "source": [
    "print(\"I only show the first 10 rows\")\n",
    "data1.loc[0:9,[\"European\", \"American\", \"Market_P\"]]\n"
   ]
  },
  {
   "cell_type": "markdown",
   "metadata": {},
   "source": [
    "## Question(c)\n",
    "### Comment: We can tell from the plot that the value of Market price , American_Binomial_tree,European_Binomial_tree are similar."
   ]
  },
  {
   "cell_type": "markdown",
   "metadata": {},
   "source": [
    "## Question(d)\n",
    "Here I choose the 1 groups from different maturity.\n",
    "S = 100\n",
    "K = 100\n",
    "T = 1\n",
    "r = 0.06\n",
    "vol =0.2"
   ]
  },
  {
   "cell_type": "code",
   "execution_count": 105,
   "metadata": {},
   "outputs": [
    {
     "name": "stdout",
     "output_type": "stream",
     "text": [
      "[0.1818405571352244, 0.09157117795107883, 0.061181079040872, 0.04593431040090579, 0.0367703119031626, 0.018407546560731625, 0.012276579421046208, 0.009209251934491292, 0.007368270480900385, 0.0061407069584609175, 0.00526375744162344, 0.004605980680591593]\n"
     ]
    },
    {
     "data": {
      "text/plain": [
       "[<matplotlib.lines.Line2D at 0x1a241b5710>]"
      ]
     },
     "execution_count": 105,
     "metadata": {},
     "output_type": "execute_result"
    },
    {
     "data": {
      "image/png": "[encoded data removed]",
      "text/plain": [
       "<Figure size 432x288 with 1 Axes>"
      ]
     },
     "metadata": {
      "needs_background": "light"
     },
     "output_type": "display_data"
    }
   ],
   "source": [
    "import matplotlib.pyplot as plt\n",
    "%matplotlib inline \n",
    "Option_type =\"put\"\n",
    "S = 100\n",
    "K = 100\n",
    "T = 1\n",
    "r = 0.06\n",
    "vol =0.2\n",
    "error = []\n",
    "x = [10,20,30,40,50,100,150,200,250,300,350,400]\n",
    "for N in x :\n",
    "    error.append(abs(additive_binomial_European(Option_type,S,K,r,vol,T,N) - BSM(Option_type,S,K,vol,T,r) ))\n",
    "print(error)\n",
    "plt.plot(x,error)"
   ]
  },
  {
   "cell_type": "markdown",
   "metadata": {},
   "source": [
    "# bonus\n"
   ]
  },
  {
   "cell_type": "code",
   "execution_count": 98,
   "metadata": {},
   "outputs": [
    {
     "name": "stdout",
     "output_type": "stream",
     "text": [
      "I only show the first 10 rows:\n"
     ]
    },
    {
     "data": {
      "text/html": [
       "<div>\n",
       "<style scoped>\n",
       "    .dataframe tbody tr th:only-of-type {\n",
       "        vertical-align: middle;\n",
       "    }\n",
       "\n",
       "    .dataframe tbody tr th {\n",
       "        vertical-align: top;\n",
       "    }\n",
       "\n",
       "    .dataframe thead th {\n",
       "        text-align: right;\n",
       "    }\n",
       "</style>\n",
       "<table border=\"1\" class=\"dataframe\">\n",
       "  <thead>\n",
       "    <tr style=\"text-align: right;\">\n",
       "      <th></th>\n",
       "      <th>implied_vol</th>\n",
       "      <th>American_Binomial_vol</th>\n",
       "    </tr>\n",
       "  </thead>\n",
       "  <tbody>\n",
       "    <tr>\n",
       "      <th>0</th>\n",
       "      <td>0.213940</td>\n",
       "      <td>0.213921</td>\n",
       "    </tr>\n",
       "    <tr>\n",
       "      <th>1</th>\n",
       "      <td>0.225199</td>\n",
       "      <td>0.224857</td>\n",
       "    </tr>\n",
       "    <tr>\n",
       "      <th>2</th>\n",
       "      <td>0.177127</td>\n",
       "      <td>0.177086</td>\n",
       "    </tr>\n",
       "    <tr>\n",
       "      <th>3</th>\n",
       "      <td>0.213485</td>\n",
       "      <td>0.213506</td>\n",
       "    </tr>\n",
       "    <tr>\n",
       "      <th>4</th>\n",
       "      <td>0.175056</td>\n",
       "      <td>0.174697</td>\n",
       "    </tr>\n",
       "    <tr>\n",
       "      <th>5</th>\n",
       "      <td>0.206100</td>\n",
       "      <td>0.206164</td>\n",
       "    </tr>\n",
       "    <tr>\n",
       "      <th>6</th>\n",
       "      <td>0.179956</td>\n",
       "      <td>0.179724</td>\n",
       "    </tr>\n",
       "    <tr>\n",
       "      <th>7</th>\n",
       "      <td>0.197538</td>\n",
       "      <td>0.197626</td>\n",
       "    </tr>\n",
       "    <tr>\n",
       "      <th>8</th>\n",
       "      <td>0.179775</td>\n",
       "      <td>0.179897</td>\n",
       "    </tr>\n",
       "    <tr>\n",
       "      <th>9</th>\n",
       "      <td>0.187314</td>\n",
       "      <td>0.187407</td>\n",
       "    </tr>\n",
       "  </tbody>\n",
       "</table>\n",
       "</div>"
      ],
      "text/plain": [
       "   implied_vol  American_Binomial_vol\n",
       "0     0.213940               0.213921\n",
       "1     0.225199               0.224857\n",
       "2     0.177127               0.177086\n",
       "3     0.213485               0.213506\n",
       "4     0.175056               0.174697\n",
       "5     0.206100               0.206164\n",
       "6     0.179956               0.179724\n",
       "7     0.197538               0.197626\n",
       "8     0.179775               0.179897\n",
       "9     0.187314               0.187407"
      ]
     },
     "execution_count": 98,
     "metadata": {},
     "output_type": "execute_result"
    }
   ],
   "source": [
    "for i in range(len(data1)): \n",
    "    data1.loc[i,'American_Binomial_vol']=bisection(0.01,3,implied_vol(\n",
    "    data1[\"Type\"][i],\n",
    "    float(data1[\"Underlying_Price\"][i]),\n",
    "    float(data1[\"Strike\"][i]),\n",
    "    float(data1[\"Maturity\"][i]),\n",
    "    0.0075,\n",
    "    float(data1[\"American\"][i])),\n",
    "    1.e-6)\n",
    "\n",
    "print(\"I only show the first 10 rows:\")\n",
    "data1.loc[0:9,[\"implied_vol\",\"American_Binomial_vol\"]] "
   ]
  },
  {
   "cell_type": "markdown",
   "metadata": {},
   "source": [
    "# Part 2 Trinomial Tree\n",
    "## Question(a)\n",
    "### trinomial tree model of European option"
   ]
  },
  {
   "cell_type": "code",
   "execution_count": 107,
   "metadata": {},
   "outputs": [],
   "source": [
    "def trinomial_tree_European_dividend(Option_type,S,K,r,vol,T,N,div,dx):\n",
    "    \"\"\"\n",
    "    \n",
    "    \"\"\"\n",
    "    \n",
    "    # precompute constants\n",
    "    dt = T/N\n",
    "    nu = r - div - 0.5*vol**2\n",
    "    pu = 0.5*( (vol**2 * dt + (nu*dt)**2)/(dx**2) + (nu*dt)/(dx))\n",
    "    pd = 0.5*( (vol**2 * dt + (nu*dt)**2)/(dx**2) - (nu*dt)/(dx))\n",
    "    pm = 1 - pu - pd\n",
    "    disc = np.exp(-r*dt)\n",
    "    \n",
    "    # initialize asset price\n",
    "    St = S * np.exp(np.asarray([(N-i)*dx for i in range(2*N+1)]))\n",
    "    \n",
    "    # consider option type : call\n",
    "    if Option_type == \"call\":\n",
    "        # initialize option value\n",
    "        Ct = np.where(St >= K, St-K,0)\n",
    "        while(len(Ct)>1):\n",
    "            Ct = disc*(pu*Ct[:-2] + pm*Ct[1:-1] + pd*Ct[2:])\n",
    "    \n",
    "    # consider option type : call\n",
    "    if Option_type == \"put\":\n",
    "         # initialize option value\n",
    "        Ct = np.where(K >= St, K-St,0)\n",
    "        while(len(Ct)>1):\n",
    "            Ct = disc*(pu*Ct[:-2] + pm*Ct[1:-1] + pd*Ct[2:])\n",
    "    return Ct[0]"
   ]
  },
  {
   "cell_type": "markdown",
   "metadata": {},
   "source": [
    "### trinomial tree model of American option"
   ]
  },
  {
   "cell_type": "code",
   "execution_count": 108,
   "metadata": {},
   "outputs": [],
   "source": [
    "def trinomial_tree_American_dividend(Option_type,S,K,r,vol,T,N,div,dx):\n",
    "    \"\"\"\n",
    "    \n",
    "    \"\"\"\n",
    "    \n",
    "    # precompute constants\n",
    "    dt = T/N\n",
    "    nu = r - div - 0.5*vol**2\n",
    "    pu = 0.5*( (vol**2 * dt + (nu*dt)**2)/(dx**2) + (nu*dt)/(dx))\n",
    "    pd = 0.5*( (vol**2 * dt + (nu*dt)**2)/(dx**2) - (nu*dt)/(dx))\n",
    "    pm = 1 - pu - pd\n",
    "    disc = np.exp(-r*dt)\n",
    "    \n",
    "    # initialize asset price\n",
    "    St = S * np.exp(np.asarray([(N-i)*dx for i in range(2*N+1)]))\n",
    "    \n",
    "    # consider option type\n",
    "    if Option_type == \"call\":\n",
    "        # initialize option value\n",
    "        Ct = np.where(St >= K, St-K,0)\n",
    "        while(len(Ct)>1):\n",
    "            St = St[1:-1]\n",
    "            Ct = disc*(pu*Ct[:-2] + pm*Ct[1:-1] + pd*Ct[2:])\n",
    "            Ct = np.where(Ct >= (St-K),Ct,(St-K))\n",
    "            \n",
    "    \n",
    "    if Option_type == \"put\":\n",
    "         # initialize option value\n",
    "        Ct = np.where(K >= St, K-St,0)\n",
    "        while(len(Ct)>1):\n",
    "            St = St[1:-1]\n",
    "            Ct = disc*(pu*Ct[:-2] + pm*Ct[1:-1] + pd*Ct[2:])\n",
    "            Ct = np.where(Ct >= (K-St),Ct,(K-St))\n",
    "    return Ct[0]"
   ]
  },
  {
   "cell_type": "code",
   "execution_count": 111,
   "metadata": {},
   "outputs": [
    {
     "name": "stdout",
     "output_type": "stream",
     "text": [
      "Stability condition is True\n",
      "European_call: \n",
      "8.42533617724738\n",
      "European_put: \n",
      "5.557257626603268\n",
      "American_call: \n",
      "8.42533617724738\n",
      "American_put: \n",
      "5.931401358884872\n"
     ]
    }
   ],
   "source": [
    "Option_type = \"call\"\n",
    "S = 100\n",
    "K = 100\n",
    "T = 1\n",
    "r = 0.06\n",
    "div = 0.03\n",
    "N = 3\n",
    "dx = 0.2\n",
    "vol =0.2\n",
    "stability = dx >= vol* np.sqrt(3*(T/N))\n",
    "\n",
    "print(f'Stability condition is {stability}')\n",
    "print(\"European_call: \")\n",
    "print(trinomial_tree_European_dividend(\"call\",S,K,r,vol,T,N,div,dx))\n",
    "print(\"European_put: \")\n",
    "print(trinomial_tree_European_dividend(\"put\",S,K,r,vol,T,N,div,dx))\n",
    "print(\"American_call: \")\n",
    "print(trinomial_tree_American_dividend(\"call\",S,K,r,vol,T,N,div,dx))\n",
    "print(\"American_put: \")\n",
    "print(trinomial_tree_American_dividend(\"put\",S,K,r,vol,T,N,div,dx))"
   ]
  },
  {
   "cell_type": "markdown",
   "metadata": {},
   "source": [
    "## Question(b)\n",
    "This question is similar as part_1"
   ]
  },
  {
   "cell_type": "code",
   "execution_count": 52,
   "metadata": {},
   "outputs": [
    {
     "name": "stdout",
     "output_type": "stream",
     "text": [
      "dx is 0.2, N is 500 and stability condition is True\n",
      "European trinomial call: 10.14132870865628\n",
      "American trinomial put: 10.142102527033195\n",
      "BSM: 11.013078647539281\n"
     ]
    }
   ],
   "source": [
    "def BSM_dividend(Option_type,S,K,vol,div,expir,r):\n",
    "    d1 = (log(S / K) + (r- div+ 0.5 * vol**2) * expir) / (vol * sqrt(expir))\n",
    "    d2 = d1 - vol * sqrt(expir)\n",
    "    if Option_type == \"call\":\n",
    "        option_price = S *exp(- div*expir)* norm.cdf(d1) - K * exp(-r * expir)*norm.cdf(d2)\n",
    "        return option_price\n",
    "    if Option_type == \"put\":\n",
    "        option_price = K * exp(-r * expir) * norm.cdf(-d2) - S *exp(- div*expir)* norm.cdf(-d1)\n",
    "        return option_price\n",
    "\n",
    "\n",
    "\n",
    "Option_type = \"call\"\n",
    "S = 100\n",
    "K = 100\n",
    "T = 1\n",
    "r = 0.06\n",
    "div = 0.03\n",
    "N = 1000\n",
    "dx = 0.2\n",
    "vol =0.25\n",
    "stability = dx >= vol* np.sqrt(3*(T/N))\n",
    "print(f'dx is 0.2, N is 500 and stability condition is {stability}')\n",
    "print(f'European trinomial call: {trinomial_tree_European_dividend(Option_type,S,K,r,vol,T,N,div,dx)}')\n",
    "print(f'American trinomial put: {trinomial_tree_American_dividend(Option_type,S,K,r,vol,T,N,div,dx)}')\n",
    "print(f'BSM: {BSM_dividend(Option_type,S,K,vol,div,T,r)}')"
   ]
  },
  {
   "cell_type": "markdown",
   "metadata": {},
   "source": [
    "## Question(c)\n",
    "### Comment: We can tell from the plot that the value of American_Trinomial_tree,European_Trinomial_tree are similar. But the value calculated by BSM has some small difference."
   ]
  },
  {
   "cell_type": "markdown",
   "metadata": {},
   "source": [
    "## Question(d)"
   ]
  },
  {
   "cell_type": "code",
   "execution_count": 33,
   "metadata": {},
   "outputs": [
    {
     "name": "stdout",
     "output_type": "stream",
     "text": [
      "Stability condition is True\n",
      "[0.19295715968476124, 0.09503463583403793, 0.06307128044456078, 0.06307128044456078, 0.037711800538067664, 0.01880834214773408, 0.012528511703278511, 0.00939251533652019, 0.007512161786465299, 0.0062591089711823145, 0.005364323392191395, 0.00469337183601759]\n"
     ]
    },
    {
     "data": {
      "text/plain": [
       "[<matplotlib.lines.Line2D at 0x1a16819470>]"
      ]
     },
     "execution_count": 33,
     "metadata": {},
     "output_type": "execute_result"
    },
    {
     "data": {
      "image/png": "[encoded data removed]",
      "text/plain": [
       "<Figure size 432x288 with 1 Axes>"
      ]
     },
     "metadata": {
      "needs_background": "light"
     },
     "output_type": "display_data"
    }
   ],
   "source": [
    "import matplotlib.pyplot as plt\n",
    "%matplotlib inline \n",
    "Option_type ==\"put\"\n",
    "S = 100\n",
    "K = 100\n",
    "T = 1\n",
    "r = 0.06\n",
    "vol =0.2\n",
    "div = 0.03\n",
    "dx = 0.25\n",
    "stability = dx >= vol* np.sqrt(3*(T/10))\n",
    "\n",
    "print(f'Stability condition is {stability}')\n",
    "\n",
    "error = []\n",
    "x = [10,20,30,30,50,100,150,200,250,300,350,400]\n",
    "for N in x :\n",
    "    dx = vol*np.sqrt(3*(T/N))\n",
    "    error.append(abs(trinomial_tree_European_dividend(Option_type,S,K,r,vol,T,N,div,dx) - BSM_dividend(Option_type,S,K,vol,div,T,r)))\n",
    "   \n",
    "print(error)\n",
    "plt.plot(x,error)"
   ]
  },
  {
   "cell_type": "markdown",
   "metadata": {},
   "source": [
    "# Part 3 Pricing Exotic Options\n",
    "## Question(a)"
   ]
  },
  {
   "cell_type": "markdown",
   "metadata": {},
   "source": [
    "### Binomial tree model of European call barrier option\n",
    "### Up-and-out"
   ]
  },
  {
   "cell_type": "code",
   "execution_count": 19,
   "metadata": {},
   "outputs": [
    {
     "name": "stdout",
     "output_type": "stream",
     "text": [
      "European_UO_TREE_call:\n"
     ]
    },
    {
     "data": {
      "text/plain": [
       "0.05498969599617116"
      ]
     },
     "execution_count": 19,
     "metadata": {},
     "output_type": "execute_result"
    }
   ],
   "source": [
    "\"\"\"\n",
    "def European_UO_TREE_call(K,T,S,r,vol,H,N):\n",
    "    dt = T/N\n",
    "    nu = r - 0.5*(vol**2)\n",
    "    xu = np.sqrt(dt*(vol**2) + (nu*dt)**2)\n",
    "    xd = - xu\n",
    "    pu = 0.5 + 0.5*( (nu*dt) /xu)\n",
    "    pd = 1- pu\n",
    "    disc = np.exp(-r*dt)\n",
    "    \n",
    "    # initialize asset price\n",
    "    St = S * np.exp(np.asarray([(N-i)*xu + i*xd for i in range(N+1)]))\n",
    "    \n",
    "    #iniialize value at maturity\n",
    "    C = np.asarray([np.max([St[q] - K,0]) if St[q] < H else 0 for q in range(len(St))])\n",
    "    \n",
    "    while (len(C)>1):\n",
    "        St = np.exp(xd) * St[:-1]\n",
    "        C = disc*(pu*C[:-1] + pd*C[1:])\n",
    "        \n",
    "        C = np.where(C < K-St, K-St, C)\n",
    "        C= np.where(St > H, C,0)\n",
    "    return C[0]\n",
    "\"\"\"\n",
    "\n",
    "def European_UO_TREE_call(K,T,S,r,sig,H,N):\n",
    "    dt = T/N\n",
    "    nu = r - 0.5*sig**2\n",
    "    xu = np.sqrt(sig**2 * dt + (nu*dt)**2)\n",
    "    xd = -xu\n",
    "    pu = 0.5 + 0.5*(nu*dt)/xu\n",
    "    pd = 1 - pu\n",
    "    disc = np.exp(-r * dt)\n",
    "    St = S * np.exp(np.asarray([(N-i)*xd + i * xu for i in range(N+1)]))\n",
    "    C = np.asarray([np.max([St[j] - K,0]) if St[j] < H else 0 for j in range(len(St))])\n",
    "    while (len(C) > 1):\n",
    "        St = np.exp(xu) * St[:-1]\n",
    "        C = disc*(pd * C[:-1] + pu * C[1:])\n",
    "        C = np.where(St < H, C, 0)\n",
    "    return C[0]\n",
    "\n",
    "S = 10\n",
    "K = 10\n",
    "T = 0.3\n",
    "r = 0.01\n",
    "vol = 0.2\n",
    "H = 11 \n",
    "N = 10000\n",
    "print( \"European_UO_TREE_call:\")\n",
    "European_UO_TREE_call(K,T,S,r,vol,H,N)"
   ]
  },
  {
   "cell_type": "markdown",
   "metadata": {},
   "source": [
    "### Up-and-in"
   ]
  },
  {
   "cell_type": "code",
   "execution_count": 20,
   "metadata": {},
   "outputs": [],
   "source": [
    "def European_UI_TREE_call(K,T,S,r,vol,H,N):\n",
    "    dt = T/N\n",
    "    nu = r - 0.5*(vol**2)\n",
    "    xu = np.sqrt(dt*(vol**2) + (nu*dt)**2)\n",
    "    xd = - xu\n",
    "    pu = 0.5 + 0.5*( (nu*dt) /xu)\n",
    "    pd = 1- pu\n",
    "    disc = np.exp(-r*dt)\n",
    "    \n",
    "    # initialize asset price\n",
    "    St = S * np.exp(np.asarray([(N-i)*xu + i*xd for i in range(N+1)]))\n",
    "    \n",
    "    #iniialize value at maturity\n",
    "    C = np.asarray([np.max([St[q] - K,0]) if St[q] > H else 0 for q in range(len(St))])\n",
    "    \n",
    "    while (len(C)>1):\n",
    "        St = np.exp(xd) * St[:-1]\n",
    "        C = disc*(pu*C[:-1] + pd*C[1:])\n",
    "        \n",
    "        C = np.where(C < K-St, K-St, C)\n",
    "        C = np.where(St > H, C,0)\n",
    "    return C[0]"
   ]
  },
  {
   "cell_type": "markdown",
   "metadata": {},
   "source": [
    "### Down-and-in"
   ]
  },
  {
   "cell_type": "code",
   "execution_count": 21,
   "metadata": {},
   "outputs": [],
   "source": [
    "def European_DI_TREE_call(K,T,S,r,vol,H,N):\n",
    "    dt = T/N\n",
    "    nu = r - 0.5*(vol**2)\n",
    "    xu = np.sqrt(dt*(vol**2) + (nu*dt)**2)\n",
    "    xd = - xu\n",
    "    pu = 0.5 + 0.5*( (nu*dt) /xu)\n",
    "    pd = 1- pu\n",
    "    disc = np.exp(-r*dt)\n",
    "    \n",
    "    # initialize asset price\n",
    "    St = S * np.exp(np.asarray([(N-i)*xu + i*xd for i in range(N+1)]))\n",
    "    \n",
    "    #iniialize value at maturity\n",
    "    C = np.asarray([np.max([St[q] - K,0]) if St[q] > H else 0 for q in range(len(St))])\n",
    "    \n",
    "    while (len(C)>1):\n",
    "        St = np.exp(xd) * St[:-1]\n",
    "        C = disc*(pu*C[:-1] + pd*C[1:])\n",
    "        \n",
    "        C = np.where(C < K-St, K-St, C)\n",
    "        C = np.where(St > H, C,0)\n",
    "    return C[0]"
   ]
  },
  {
   "cell_type": "markdown",
   "metadata": {},
   "source": [
    "### Down-and-out"
   ]
  },
  {
   "cell_type": "code",
   "execution_count": 114,
   "metadata": {},
   "outputs": [],
   "source": [
    "def European_DO_TREE_call(K,T,S,r,vol,H,N):\n",
    "    dt = T/N\n",
    "    nu = r - 0.5*(vol**2)\n",
    "    xu = np.sqrt(dt*(vol**2) + (nu*dt)**2)\n",
    "    xd = - xu\n",
    "    pu = 0.5 + 0.5*( (nu*dt) /xu)\n",
    "    pd = 1- pu\n",
    "    disc = np.exp(-r*dt)\n",
    "    \n",
    "    # initialize asset price\n",
    "    St = S * np.exp(np.asarray([(N-i)*xu + i*xd for i in range(N+1)]))\n",
    "    \n",
    "    #iniialize value at maturity\n",
    "    C = np.asarray([np.max([St[q] - K,0]) if St[q] > H else 0 for q in range(len(St))])\n",
    "    \n",
    "    while (len(C)>1):\n",
    "        St = np.exp(xd) * St[:-1]\n",
    "        C = disc*(pu*C[:-1] + pd*C[1:])\n",
    "        \n",
    "        C = np.where(C < K-St, K-St, C)\n",
    "        C = np.where(St > H, C,0)\n",
    "    return C[0]"
   ]
  },
  {
   "cell_type": "markdown",
   "metadata": {},
   "source": [
    "## Question(b)\n",
    "### BS model"
   ]
  },
  {
   "cell_type": "code",
   "execution_count": 22,
   "metadata": {},
   "outputs": [],
   "source": [
    "import scipy.stats"
   ]
  },
  {
   "cell_type": "code",
   "execution_count": 23,
   "metadata": {},
   "outputs": [
    {
     "data": {
      "text/plain": [
       "0.4512876448808987"
      ]
     },
     "execution_count": 23,
     "metadata": {},
     "output_type": "execute_result"
    }
   ],
   "source": [
    "def BSM(Option_type,S,K,vol,T,r):\n",
    "    d1 = (np.log(S / K) + (r + 0.5 * vol**2) * T) / (vol * np.sqrt(T))\n",
    "    d2 = d1 - (vol * np.sqrt(T))\n",
    "    if Option_type == \"call\":\n",
    "        option_price = S * scipy.stats.norm.cdf(d1) - K * np.exp(-r * T)*scipy.stats.norm.cdf(d2)\n",
    "        return option_price\n",
    "    if Option_type == \"put\":\n",
    "        option_price = K * np.exp(-r * T) * scipy.stats.norm.cdf(-d2) - S * scipy.stats.norm.cdf(-d1)\n",
    "        return option_price\n",
    "Option_type = \"call\"\n",
    "S = 10\n",
    "K = 10\n",
    "T = 0.3\n",
    "vol = 0.2\n",
    "r = 0.01\n",
    "H = 11   \n",
    "BSM(Option_type,S,K,vol,T,r) "
   ]
  },
  {
   "cell_type": "markdown",
   "metadata": {},
   "source": [
    "### European Up and Out, Up and In, Down and Out, Down and In Barrier Options in explicit formulas"
   ]
  },
  {
   "cell_type": "code",
   "execution_count": 25,
   "metadata": {},
   "outputs": [
    {
     "name": "stdout",
     "output_type": "stream",
     "text": [
      "0.05309279660325303\n",
      "0.3981948482776454\n"
     ]
    }
   ],
   "source": [
    "def European_UO_BS_call(S,K,vol,T,r,H):\n",
    "    nu = r - 0.5 * vol**2\n",
    "    disc = np.exp(-r*T)\n",
    "    C_sk = BSM(\"call\",S,K,vol,T,r)\n",
    "    C_sh = BSM(\"call\",S,H,vol,T,r)\n",
    "    d_sh = (np.log(S / H) + nu * T) / (vol * np.sqrt(T))\n",
    "    d_hs = (np.log(H / S) + nu * T) / (vol * np.sqrt(T))\n",
    "    C_1 = BSM(\"call\",(H**2)/S,K,vol,T,r)\n",
    "    C_2 = BSM(\"call\",(H**2)/S,H,vol,T,r)\n",
    "    stdnorm1 = scipy.stats.norm.cdf(d_sh)\n",
    "    stdnorm2 = scipy.stats.norm.cdf(d_hs)\n",
    "    return C_sk - C_sh - (H-K)*disc*stdnorm1 - (H/S)**(2*nu/vol**2)*(C_1-C_2-(H-K)*disc*stdnorm2)\n",
    "\n",
    "def European_UI_BS_call(S,K,vol,T,r,H):\n",
    "    nu = r - 0.5 * vol**2\n",
    "    disc = np.exp(-r*T)\n",
    "    P_1 = BSM(\"put\",(H**2/S),K,vol,T,r)\n",
    "    P_2 = BSM(\"put\",(H**2/S),H,vol,T,r)\n",
    "    C_sh = BSM(\"call\",S,H,vol,T,r)\n",
    "    d_hs = (np.log(H / S) + nu * T) / (vol * np.sqrt(T))\n",
    "    d_sh = (np.log(S / H) + nu * T) / (vol * np.sqrt(T))\n",
    "    stdnorm1 = scipy.stats.norm.cdf(-d_hs)\n",
    "    stdnorm2 = scipy.stats.norm.cdf(d_sh)\n",
    "    return (H/S)**(2*nu/vol**2)*(P_1-P_2 +(H-K)*disc*stdnorm1) + C_sh +(H-K)*disc*stdnorm2\n",
    "\n",
    "def European_DO_BS_call(S,K,vol,T,r,H):\n",
    "    nu = r - 0.5 * vol**2\n",
    "    C_sk = BSM(\"call\",S,K,vol,T,r)\n",
    "    C_1 = BSM(\"call\",(H**2)/S,K,vol,T,r)\n",
    "    return C_sk - (H/S)**(2*vol)*C_1\n",
    "\n",
    "def European_DI_BS_call(S,K,vol,T,r,H):\n",
    "    nu = r - 0.5 * (vol**2)\n",
    "    C_1 = BSM(\"call\",(H**2)/S,K,vol,T,r)\n",
    "    return C_1 * (H/S)**(2*nu/vol**2)\n",
    "\n",
    "\n",
    "S = 10\n",
    "K = 10\n",
    "T = 0.3\n",
    "vol = 0.2\n",
    "r = 0.01\n",
    "H = 11\n",
    "\n",
    "print(European_UO_BS_call(S,K,vol,T,r,H))\n",
    "print(European_UI_BS_call(S,K,vol,T,r,H))\n",
    "#print(European_DO_BS_call(S,K,vol,T,r,H))\n",
    "#print(European_DI_BS_call(S,K,vol,T,r,H))"
   ]
  },
  {
   "cell_type": "code",
   "execution_count": 27,
   "metadata": {},
   "outputs": [
    {
     "name": "stdout",
     "output_type": "stream",
     "text": [
      "0.4512876448808987\n",
      "0.45128764488089845\n"
     ]
    }
   ],
   "source": [
    "S = 10\n",
    "K = 10\n",
    "T = 0.3\n",
    "vol = 0.2\n",
    "r = 0.01\n",
    "H = 11\n",
    "\n",
    "print(BSM(\"call\",S,K,vol,T,r))\n",
    "print(European_UO_BS_call(S,K,vol,T,r,H)+European_UI_BS_call(S,K,vol,T,r,H))\n",
    "print(European_DO_BS_call(S,K,vol,T,r,H)+European_DI_BS_call(S,K,vol,T,r,H))"
   ]
  },
  {
   "cell_type": "markdown",
   "metadata": {},
   "source": [
    "### Check the value of binomial tree and BSM formula"
   ]
  },
  {
   "cell_type": "code",
   "execution_count": 28,
   "metadata": {},
   "outputs": [
    {
     "name": "stdout",
     "output_type": "stream",
     "text": [
      "European_UO_TREE_call:\n",
      "0.05498969599617116\n",
      "European_UO_BS_call:\n",
      "0.05309279660325303\n"
     ]
    }
   ],
   "source": [
    "print( \"European_UO_TREE_call:\")\n",
    "print(European_UO_TREE_call(K,T,S,r,vol,H,N))\n",
    "print( \"European_UO_BS_call:\")\n",
    "print(European_UO_BS_call(S,K,vol,T,r,H))\n"
   ]
  },
  {
   "cell_type": "markdown",
   "metadata": {},
   "source": [
    "## Question(c)\n",
    "### Check the value by two method"
   ]
  },
  {
   "cell_type": "code",
   "execution_count": 31,
   "metadata": {},
   "outputs": [
    {
     "name": "stdout",
     "output_type": "stream",
     "text": [
      "European Up-and-In call Option using explicit formula: 0.3981948482776454\n",
      "Up-and-In calculated by In-Out Parity: 0.3981948482776456\n"
     ]
    }
   ],
   "source": [
    "S = 10\n",
    "K = 10\n",
    "T = 0.3\n",
    "vol = 0.2\n",
    "r = 0.01\n",
    "H = 11\n",
    "div = 0\n",
    "N=10000\n",
    "\n",
    "print(f'European Up-and-In call Option using explicit formula: {European_UI_BS_call(S,K,vol,T,r,H)}')\n",
    "print( f'Up-and-In calculated by In-Out Parity: {BSM(\"call\",S,K,vol,T,r)-European_UO_BS_call(S,K,vol,T,r,H)}')\n",
    "#print(f'European Up-and-In call Option using binomial tree: {European_UI_TREE_call(K,T,S,r,vol,H,N)}')"
   ]
  },
  {
   "cell_type": "markdown",
   "metadata": {},
   "source": [
    "## Question(d)\n",
    "### Binomial tree model of American put barrier option\n",
    "### up-and-in put"
   ]
  },
  {
   "cell_type": "code",
   "execution_count": 32,
   "metadata": {},
   "outputs": [
    {
     "name": "stdout",
     "output_type": "stream",
     "text": [
      "American_UI_Tree_put(K,T,S,r,H,N,sigma): 0.3824118292775121\n"
     ]
    }
   ],
   "source": [
    "def American_UI_Tree_put(K,T,S,r,H,N,sigma):\n",
    "    dt=T/N\n",
    "    nu=r-0.5*sigma**2\n",
    "    dxu=np.sqrt(sigma**2*dt+(nu*dt)**2)\n",
    "    dxd=-dxu\n",
    "    pu=1/2+1/2*(nu*dt/dxu)\n",
    "    pd=1-pu\n",
    "    disc=np.exp(-r*dt)\n",
    "    St=np.asarray([S*np.exp(dxd*(N-2*i)) for i in range(N+1)])\n",
    "    StMax=np.max(St)\n",
    "    C=np.where(K-St>0,K-St,0)\n",
    "    C=np.where(StMax<H,C,0)\n",
    "    while(len(C)>1):\n",
    "        St=St[:-1]/np.exp(dxd)\n",
    "        StMax=np.max(St)\n",
    "        C=disc*(pu*C[1:]+pd*C[:-1])\n",
    "        C=np.where(K-St>C,K-St,C)\n",
    "        C=np.where(StMax<H,C,0)\n",
    "    return additive_binomial_American(\"put\",S,K,r,sigma,T,N)-C[0]\n",
    "K=10\n",
    "T=0.3\n",
    "S=10\n",
    "r=0.01\n",
    "div=0\n",
    "H=11\n",
    "sigma=0.2\n",
    "N=10000\n",
    "print(f'American_UI_Tree_put(K,T,S,r,H,N,sigma): {American_UI_Tree_put(K,T,S,r,H,N,sigma)}')"
   ]
  },
  {
   "cell_type": "markdown",
   "metadata": {},
   "source": [
    "# Part 4\n",
    "## Question(a)\n",
    "## Explicit Finite Difference --- European options"
   ]
  },
  {
   "cell_type": "code",
   "execution_count": 4,
   "metadata": {},
   "outputs": [],
   "source": [
    "import numpy as np\n",
    "def European_EFD(Option_type, K, T, S, vol, r, div, Nj, N, dx):\n",
    "    \"\"\"\n",
    "\n",
    "    \"\"\"\n",
    "    # precompute constants\n",
    "    dt = T / N\n",
    "    nu = r - div - 0.5 * (vol ** 2)\n",
    "    edx = np.exp(dx)\n",
    "\n",
    "    pu = 0.5 * dt * ((vol / dx) ** 2 + nu / dx)\n",
    "    pm = 1.0 - dt * (vol / dx) ** 2 - r * dt\n",
    "    pd = 0.5 * dt * ((vol / dx) ** 2 - nu / dx)\n",
    "    # pm = 1 - pu - pd\n",
    "    \n",
    "    # initialise the asset prices at maturity N\n",
    "    St=S*np.exp(np.asarray([Nj*(-dx)+i*(dx) for i in range(2*Nj+1)]))\n",
    "\n",
    "\n",
    "    # initialise option values at maturity\n",
    "    if Option_type == \"call\":\n",
    "        C = np.where(St > K ,St-K, 0)\n",
    "    # calculate the option price\n",
    "        while(N>0):\n",
    "            C=pd*C[:-2]+pm*C[1:-1]+pu*C[2:]\n",
    "            C_max=C[-1]+St[-1]-St[-2]\n",
    "            C_min=C[0]\n",
    "            C=np.hstack([[C_min],C,[C_max]])\n",
    "            N=N-1\n",
    "\n",
    "    if Option_type == \"put\":\n",
    "        C = np.where(St < K, K-St,0)\n",
    "    \n",
    "        while(N>0):\n",
    "            C=pd*C[:-2]+pm*C[1:-1]+pu*C[2:]\n",
    "            C_max=C[-1]\n",
    "            C_min=C[0] + St[1] - St[0]\n",
    "            C=np.hstack([[C_min],C,[C_max]])\n",
    "            N=N-1\n",
    "\n",
    "    return C[Nj]"
   ]
  },
  {
   "cell_type": "code",
   "execution_count": 5,
   "metadata": {},
   "outputs": [
    {
     "name": "stdout",
     "output_type": "stream",
     "text": [
      "stability condition is True\n",
      "call: 8.54547955777436\n",
      "put: 5.621689170461753\n"
     ]
    }
   ],
   "source": [
    "Option_type = \"call\"\n",
    "K=100\n",
    "S=100\n",
    "T=1\n",
    "vol=0.2\n",
    "r=0.06\n",
    "div=0.03\n",
    "N=3\n",
    "Nj=3\n",
    "dx=0.2\n",
    "stability= dx>=vol*np.sqrt(3*T/N)\n",
    "\n",
    "print(f\"stability condition is {stability}\")\n",
    "print(f'call: {European_EFD(\"call\", K, T, S, vol, r, div, Nj, N, dx)}')\n",
    "print(f'put: {European_EFD(\"put\", K, T, S, vol, r, div, Nj, N, dx)}')"
   ]
  },
  {
   "cell_type": "markdown",
   "metadata": {},
   "source": [
    "## Question(b)\n",
    "## Implicit Finite Difference --- European options"
   ]
  },
  {
   "cell_type": "code",
   "execution_count": 42,
   "metadata": {},
   "outputs": [],
   "source": [
    "def European_IFD(Option_type, K, T, S, vol, r, div, Nj, N, dx):\n",
    "    dt = T / N\n",
    "    nu = r - div - 0.5 * vol**2\n",
    "    \n",
    "    pu = (-0.5) * dt * ((vol/dx)**2+nu/dx)\n",
    "    pm = 1 + dt * (vol/dx)**2 + r * dt\n",
    "    pd= (-0.5)* dt * ((sigma/dx)**2 - nu / dx)\n",
    "    \n",
    "    St=np.asarray([S*np.exp((i-Nj)*dx) for i in range(2*Nj+1)])\n",
    "    \n",
    "    C=np.where(St-K>=0,St-K,0)\n",
    "    \n",
    "    if Option_type == \"call\":\n",
    "        lambdaU=St[-1]-St[-2]\n",
    "        lambdaL=0.0\n",
    "        C=np.where(St>K,St-K,0)\n",
    "    if Option_type == \"put\":\n",
    "        lambdaU=0.0\n",
    "        lambdaL=St[0]-St[1]\n",
    "        C=np.where(K>St,K-St,0)\n",
    "    \n",
    "    \n",
    "    def solve_implicit(C,pu,pm,pd,lambdaL,lambdaU):\n",
    "        pmp=np.zeros(2*Nj-1)\n",
    "        pp=np.zeros(2*Nj-1)\n",
    "        pmp[0]=pm+pd\n",
    "        pp[0]=C[1]+pd*lambdaL\n",
    "        for i in range(2*Nj-2):\n",
    "            pmp[i+1]=pm-pu*pd/pmp[i]\n",
    "            pp[i+1]=C[i+2]-pp[i]*pd/pmp[i]\n",
    "        \n",
    "        C[-1]=(pp[-1]+pmp[-1]*lambdaU)/(pu+pmp[-1])\n",
    "        C[-2]=C[-1]-lambdaU\n",
    "        for i in range(2*Nj-2):\n",
    "            C[-(i+3)]=(pp[-(i+2)]-pu*C[-(i+2)])/pmp[-(i+2)]\n",
    "        C[0]=C[1]-lambdaL\n",
    "        return C\n",
    "    \n",
    "    while(N>0):\n",
    "        C=solve_implicit(C,pu,pm,pd,lambdaL,lambdaU)\n",
    "        N-=1\n",
    "    \n",
    "    return C[Nj]"
   ]
  },
  {
   "cell_type": "code",
   "execution_count": 43,
   "metadata": {},
   "outputs": [
    {
     "name": "stdout",
     "output_type": "stream",
     "text": [
      "stability condition is True\n",
      "call: 8.267442301141168\n",
      "put: 11.041200811107565\n"
     ]
    }
   ],
   "source": [
    "K=100\n",
    "S=100\n",
    "T=1\n",
    "vol=0.2\n",
    "r=0.06\n",
    "div=0.03\n",
    "N=3\n",
    "Nj=3\n",
    "dx=0.2\n",
    "stability= dx>=vol*np.sqrt(3*T/N)\n",
    "\n",
    "print(f\"stability condition is {stability}\")\n",
    "print(f'call: {European_IFD(\"call\", K, T, S, vol, r, div, Nj, N, dx)}')\n",
    "print(f'put: {European_IFD(\"put\", K, T, S, vol, r, div, Nj, N, dx)}')"
   ]
  },
  {
   "cell_type": "markdown",
   "metadata": {},
   "source": [
    "## Question(c)\n",
    "## Crank-Nicolson Finite Difference --- European options"
   ]
  },
  {
   "cell_type": "code",
   "execution_count": 63,
   "metadata": {},
   "outputs": [],
   "source": [
    "def European_CNFD(Option_type, K, T, S, vol, r, div, Nj, N, dx):\n",
    "    \"\"\"\n",
    "\n",
    "    \"\"\"\n",
    "    # precompute constants\n",
    "    dt = T / N\n",
    "    nu = r - div - 0.5 * (vol ** 2)\n",
    "    edx = np.exp(dx)\n",
    "\n",
    "    pu=-0.25*dt*((vol/dx)**2+nu/dx)\n",
    "    pm=1+0.5*dt*(vol/dx)**2+0.5*r*dt\n",
    "    pd=-0.25*dt*((vol/dx)**2-nu/dx)\n",
    "    # pm = 1 - pu - pd\n",
    "    \n",
    "    # initialize asset price\n",
    "    St=np.asarray([S*np.exp((i-Nj)*dx) for i in range(2*Nj+1)])\n",
    "    \n",
    "    # initialize option price\n",
    "    if Option_type == \"call\":\n",
    "        C=np.where(St>K,St-K,0)\n",
    "        lambdaU=St[-1]-St[-2]\n",
    "        lambdaL=0.0\n",
    "    if Option_type == \"put\":\n",
    "        C=np.where(K>St,K-St,0)\n",
    "        lambdaU=0.0\n",
    "        lambdaL=St[0]-St[1]\n",
    "           \n",
    "    def solve_GN(C,pu,pm,pd,lambdaU,lambdaL):\n",
    "        pmp=np.zeros(2*Nj-1)\n",
    "        pp=np.zeros(2*Nj-1)\n",
    "        pmp[0]=pm+pd\n",
    "        pp[0]=-pu*C[2]-(pm-2)*C[1]-pd*C[0]+pd*lambdaL\n",
    "        \n",
    "        for i in range(2*Nj-2):\n",
    "            pmp[i+1]=pm-pu*pd/pmp[i]\n",
    "            pp[i+1]=-pu*C[i+3]-(pm-2)*C[i+2]-pd*C[i+1]-pp[i]*pd/pmp[i]\n",
    "        \n",
    "        C[-1]=(pp[-1]+pmp[-1]*lambdaU)/(pu+pmp[-1])\n",
    "        C[-2]=C[-1]-lambdaU\n",
    "        for i in range(2*Nj-2):\n",
    "            C[-(i+3)]=(pp[-(i+2)]-pu*C[-(i+2)])/pmp[-(i+2)]\n",
    "        C[0]=C[1]-lambdaL\n",
    "        return C\n",
    "    \n",
    "    while(N>0):\n",
    "        C=solve_GN(C,pu,pm,pd,lambdaU,lambdaL)\n",
    "        N-=1\n",
    "    \n",
    "    return C[Nj]"
   ]
  },
  {
   "cell_type": "code",
   "execution_count": 66,
   "metadata": {},
   "outputs": [
    {
     "name": "stdout",
     "output_type": "stream",
     "text": [
      "stability condition is True\n",
      "call: 8.031447092729394\n",
      "put: 5.147317372059234\n"
     ]
    }
   ],
   "source": [
    "Option_type = \"call\"\n",
    "K=100\n",
    "S=100\n",
    "T=1\n",
    "vol=0.2\n",
    "r=0.06\n",
    "div=0.03\n",
    "N=3\n",
    "Nj=3\n",
    "dx=0.2\n",
    "stability=dx>=vol*np.sqrt(3*T/N)\n",
    "\n",
    "print(f\"stability condition is {stability}\")\n",
    "print(f'call: {European_CNFD(\"call\", K, T, S, vol, r, div, Nj, N, dx)}')\n",
    "print(f'put: {European_CNFD(\"put\", K, T, S, vol, r, div, Nj, N, dx)}')"
   ]
  },
  {
   "cell_type": "markdown",
   "metadata": {},
   "source": [
    "## Question(d)\n",
    "### European Explicit Finite Difference method"
   ]
  },
  {
   "cell_type": "code",
   "execution_count": 85,
   "metadata": {},
   "outputs": [
    {
     "name": "stdout",
     "output_type": "stream",
     "text": [
      "(0.0008928571428571428, 0.010350983390135314, 57, 1120)\n"
     ]
    }
   ],
   "source": [
    "def estimate_error(T,err,sigma,nsd):\n",
    "    dt=err/(1+3*sigma**2)\n",
    "    dx=sigma*np.sqrt(3*dt)\n",
    "    Nj=math.floor((nsd*sigma*np.sqrt(T)/dx-1)/2)\n",
    "    N=math.ceil(T/dt)\n",
    "    return dt,dx,Nj,N\n",
    "    \n",
    "print(estimate_error(1,0.001,0.2,6))"
   ]
  },
  {
   "cell_type": "markdown",
   "metadata": {},
   "source": [
    "## Question(e)"
   ]
  },
  {
   "cell_type": "code",
   "execution_count": 88,
   "metadata": {},
   "outputs": [
    {
     "name": "stdout",
     "output_type": "stream",
     "text": [
      "call: 11.01391520363616\n",
      "put: 8.14466186960782\n",
      "call: 11.011363234265596\n",
      "put: 8.142315099727044\n",
      "call: 11.012639370447193\n",
      "put: 8.143488648290164\n"
     ]
    }
   ],
   "source": [
    "Option_type = \"call\"\n",
    "K=100\n",
    "S=100\n",
    "T=1\n",
    "vol=0.25\n",
    "r=0.06\n",
    "div=0.03\n",
    "N=1120\n",
    "Nj=57\n",
    "dx=0.010350983390135314\n",
    "stability= dx>=vol*np.sqrt(3*T/N)\n",
    "\n",
    "#print(f\"stability condition is {stability}\")\n",
    "print(f'call: {European_EFD(\"call\", K, T, S, vol, r, div, Nj, N, dx)}')\n",
    "print(f'put: {European_EFD(\"put\", K, T, S, vol, r, div, Nj, N, dx)}')\n",
    "\n",
    "\n",
    "\n",
    "#print(f\"stability condition is {stability}\")\n",
    "print(f'call: {European_IFD(\"call\", K, T, S, vol, r, div, Nj, N, dx)}')\n",
    "print(f'put: {European_IFD(\"put\", K, T, S, vol, r, div, Nj, N, dx)}')\n",
    "\n",
    "\n",
    "#print(f\"stability condition is {stability}\")\n",
    "print(f'call: {European_CNFD(\"call\", K, T, S, vol, r, div, Nj, N, dx)}')\n",
    "print(f'put: {European_CNFD(\"put\", K, T, S, vol, r, div, Nj, N, dx)}')"
   ]
  },
  {
   "cell_type": "markdown",
   "metadata": {},
   "source": [
    "## Question(f)\n",
    "ConsiderS0 =100,K=100,T=1year,σ=25%,r=6%,δ=0.03. Calculate and report the price for European Call and Put using explicit, implicit FD and Crank-Nicolson methods and the number of steps that you calculated in the previous point (part d)."
   ]
  },
  {
   "cell_type": "code",
   "execution_count": 49,
   "metadata": {},
   "outputs": [
    {
     "name": "stdout",
     "output_type": "stream",
     "text": [
      "(0.0104990131391452, 0.0005878894767783657, 1701, 71)\n"
     ]
    }
   ],
   "source": [
    "def EFD_iterations_Call(K,T,S,r,div,vol):\n",
    "    N=1\n",
    "    err=1.0\n",
    "    price = BSM_dividend(\"call\",S, K, vol,div,T, r)\n",
    "    while(err>0.001):\n",
    "        N+=100\n",
    "        dt=T/N\n",
    "        dx=sigma*np.sqrt(3*dt)\n",
    "        Nj=math.ceil((math.sqrt(N/3)*6-1)/2)\n",
    "        err=abs(European_EFD(\"call\", K, T, S, vol, r, div, Nj, N, dx)-price)\n",
    "    return dx,dt,N,Nj\n",
    "K=100\n",
    "S=100\n",
    "T=1\n",
    "vol=0.25\n",
    "r=0.06\n",
    "div=0.03\n",
    "\n",
    "print(EFD_iterations_Call(K,T,S,r,div,vol))"
   ]
  },
  {
   "cell_type": "code",
   "execution_count": null,
   "metadata": {},
   "outputs": [],
   "source": [
    "def EFD_iterations_Put(K,T,S,r,div,vol):\n",
    "    N=1\n",
    "    err=1.0\n",
    "    price = BSM_dividend(\"put\",S, K, vol,div,T, r)\n",
    "    while(err>0.001):\n",
    "        N+=100\n",
    "        dt=T/N\n",
    "        dx=sigma*np.sqrt(3*dt)\n",
    "        Nj=math.ceil((math.sqrt(N/3)*6-1)/2)\n",
    "        err=abs(European_EFD(\"put\", K, T, S, vol, r, div, Nj, N, dx)-price)\n",
    "    return dx,dt,N,Nj\n",
    "K=100\n",
    "S=100\n",
    "T=1\n",
    "vol=0.25\n",
    "r=0.06\n",
    "div=0.03\n",
    "\n",
    "print(EFD_iterations_Call(K,T,S,r,div,vol))"
   ]
  },
  {
   "cell_type": "code",
   "execution_count": 54,
   "metadata": {},
   "outputs": [
    {
     "name": "stdout",
     "output_type": "stream",
     "text": [
      "(0.006680735769458949, 0.00023803856224708403, 4201, 112)\n"
     ]
    }
   ],
   "source": [
    "def IFD_iterations_Call(K,T,S,r,div,vol):\n",
    "    N=1\n",
    "    err=1.0\n",
    "    price = BSM_dividend(\"call\",S, K, vol,div,T, r)\n",
    "    while(err>0.001):\n",
    "        N+=100\n",
    "        dt=T/N\n",
    "        dx=sigma*np.sqrt(3*dt)\n",
    "        Nj=math.ceil((math.sqrt(N/3)*6-1)/2)\n",
    "        err=abs(European_IFD(\"call\", K, T, S, vol, r, div, Nj, N, dx)-price)\n",
    "    return dx,dt,N,Nj\n",
    "K=100\n",
    "S=100\n",
    "T=1\n",
    "vol=0.25\n",
    "r=0.06\n",
    "div=0.03\n",
    "\n",
    "print(IFD_iterations_Call(K,T,S,r,div,vol))"
   ]
  },
  {
   "cell_type": "code",
   "execution_count": 69,
   "metadata": {},
   "outputs": [
    {
     "name": "stdout",
     "output_type": "stream",
     "text": [
      "(0.006315467585478457, 0.00021272069772388852, 4701, 119)\n"
     ]
    }
   ],
   "source": [
    "def IFD_iterations_Put(K,T,S,r,div,vol):\n",
    "    N=1\n",
    "    err=1.0\n",
    "    price = BSM_dividend(\"put\",S, K, vol,div,T, r)\n",
    "    while(err>0.001):\n",
    "        N+=100\n",
    "        dt=T/N\n",
    "        dx=sigma*np.sqrt(3*dt)\n",
    "        Nj=math.ceil((math.sqrt(N/3)*6-1)/2)\n",
    "        err=abs(European_IFD(\"put\", K, T, S, vol, r, div, Nj, N, dx)- price)\n",
    "    return dx,dt,N,Nj\n",
    "K=100\n",
    "S=100\n",
    "T=1\n",
    "vol=0.25\n",
    "r=0.06\n",
    "div=0.03\n",
    "\n",
    "print(IFD_iterations_Put(K,T,S,r,div,vol))"
   ]
  },
  {
   "cell_type": "code",
   "execution_count": 72,
   "metadata": {},
   "outputs": [
    {
     "name": "stdout",
     "output_type": "stream",
     "text": [
      "(0.00804084401128346, 0.0003448275862068965, 2900, 92)\n"
     ]
    }
   ],
   "source": [
    "def CNFD_iterations_Call(K,T,S,r,div,vol):\n",
    "    N=1000\n",
    "    err=1.0\n",
    "    price = BSM_dividend(\"call\",S, K, vol,div,T, r)\n",
    "    while(err>0.001):\n",
    "        N+=100\n",
    "        dt=T/N\n",
    "        dx=sigma*np.sqrt(3*dt)\n",
    "        Nj=int(np.floor((np.sqrt(N/3)*6-1)/2))\n",
    "        err=abs(European_CNFD(\"call\", K, T, S, vol, r, div, Nj, N, dx)-price)\n",
    "    return dx,dt,N,Nj\n",
    "K=100\n",
    "S=100\n",
    "T=1\n",
    "vol=0.25\n",
    "r=0.06\n",
    "div=0.03\n",
    "\n",
    "print(CNFD_iterations_Call(K,T,S,r,div,vol))"
   ]
  },
  {
   "cell_type": "code",
   "execution_count": 73,
   "metadata": {},
   "outputs": [
    {
     "name": "stdout",
     "output_type": "stream",
     "text": [
      "(0.0074250147386688845, 0.00029403116730373417, 3401, 101)\n"
     ]
    }
   ],
   "source": [
    "def CNFD_iterations_Put(K,T,S,r,div,vol):\n",
    "    N=1\n",
    "    err=1.0\n",
    "    price = BSM_dividend(\"put\",S, K, vol,div,T, r)\n",
    "    while(err>0.001):\n",
    "        N+=100\n",
    "        dt=T/N\n",
    "        dx=sigma*np.sqrt(3*dt)\n",
    "        Nj=math.ceil((math.sqrt(N/3)*6-1)/2)\n",
    "        err=abs(European_CNFD(\"put\", K, T, S, vol, r, div, Nj, N, dx)-price)\n",
    "    return dx,dt,N,Nj\n",
    "K=100\n",
    "S=100\n",
    "T=1\n",
    "vol=0.25\n",
    "r=0.06\n",
    "div=0.03\n",
    "\n",
    "print(CNFD_iterations_Put(K,T,S,r,div,vol))"
   ]
  },
  {
   "cell_type": "code",
   "execution_count": 95,
   "metadata": {},
   "outputs": [
    {
     "data": {
      "text/html": [
       "<div>\n",
       "<style scoped>\n",
       "    .dataframe tbody tr th:only-of-type {\n",
       "        vertical-align: middle;\n",
       "    }\n",
       "\n",
       "    .dataframe tbody tr th {\n",
       "        vertical-align: top;\n",
       "    }\n",
       "\n",
       "    .dataframe thead th {\n",
       "        text-align: right;\n",
       "    }\n",
       "</style>\n",
       "<table border=\"1\" class=\"dataframe\">\n",
       "  <thead>\n",
       "    <tr style=\"text-align: right;\">\n",
       "      <th></th>\n",
       "      <th>0</th>\n",
       "      <th>1</th>\n",
       "      <th>2</th>\n",
       "      <th>3</th>\n",
       "    </tr>\n",
       "  </thead>\n",
       "  <tbody>\n",
       "    <tr>\n",
       "      <th>0</th>\n",
       "      <td>0.010499</td>\n",
       "      <td>0.000588</td>\n",
       "      <td>1701.0</td>\n",
       "      <td>71.0</td>\n",
       "    </tr>\n",
       "    <tr>\n",
       "      <th>1</th>\n",
       "      <td>0.006681</td>\n",
       "      <td>0.000238</td>\n",
       "      <td>4201.0</td>\n",
       "      <td>112.0</td>\n",
       "    </tr>\n",
       "    <tr>\n",
       "      <th>2</th>\n",
       "      <td>0.008041</td>\n",
       "      <td>0.000345</td>\n",
       "      <td>2900.0</td>\n",
       "      <td>92.0</td>\n",
       "    </tr>\n",
       "  </tbody>\n",
       "</table>\n",
       "</div>"
      ],
      "text/plain": [
       "          0         1       2      3\n",
       "0  0.010499  0.000588  1701.0   71.0\n",
       "1  0.006681  0.000238  4201.0  112.0\n",
       "2  0.008041  0.000345  2900.0   92.0"
      ]
     },
     "execution_count": 95,
     "metadata": {},
     "output_type": "execute_result"
    }
   ],
   "source": [
    "v1 = pd.Series([0.0104990131391452, 0.0005878894767783657, 1701, 71])\n",
    "v2 = pd.Series([0.006680735769458949, 0.00023803856224708403, 4201, 112])\n",
    "v3 = pd.Series([0.00804084401128346, 0.0003448275862068965, 2900, 92])\n",
    "table = pd.DataFrame([v1,v2,v3])\n",
    "table"
   ]
  },
  {
   "cell_type": "markdown",
   "metadata": {},
   "source": [
    "## bonus"
   ]
  },
  {
   "cell_type": "code",
   "execution_count": 115,
   "metadata": {},
   "outputs": [],
   "source": [
    "def Rannacher(K,T,S,r,div,N,Nj,sigma,dx): \n",
    "    dt=T/N\n",
    "    nu=r-div-0.5*sigma**2\n",
    "    pu=-0.25*dt*((sigma/dx)**2+nu/dx)\n",
    "    pm=1+0.5*dt*(sigma/dx)**2+0.5*r*dt\n",
    "    pd=-0.25*dt*((sigma/dx)**2-nu/dx)\n",
    "    pu1=-0.25*(dt/4)*((sigma/dx)**2+nu/dx)\n",
    "    pm1=1+0.5*(dt/4)*(sigma/dx)**2+0.5*r*dt\n",
    "    pd1=-0.25*(dt/4)*((sigma/dx)**2-nu/dx)\n",
    "\n",
    "    \n",
    "    St=np.asarray([S*np.exp((i-Nj)*dx) for i in range(2*Nj+1)]) \n",
    "    C=np.where(St-K>=0,St-K,0)\n",
    "    lambdaU=St[-1]-St[-2]\n",
    "    lambdaL=0.0\n",
    "    \n",
    "    def solve_implicit(C,pu,pm,pd,lambdaL,lambdaU):\n",
    "        pmp=np.zeros(2*Nj-1)\n",
    "        pp=np.zeros(2*Nj-1)\n",
    "        pmp[0]=pm+pd\n",
    "        pp[0]=C[1]+pd*lambdaL \n",
    "        for i in range(2*Nj-2):\n",
    "            pmp[i+1]=pm-pu*pd/pmp[i]\n",
    "            pp[i+1]=C[i+2]-pp[i]*pd/pmp[i]\n",
    "            \n",
    "        C[-1]=(pp[-1]+pmp[-1]*lambdaU)/(pu+pmp[-1]) \n",
    "        C[-2]=C[-1]-lambdaU\n",
    "        for i in range(2*Nj-2):\n",
    "            C[-(i+3)]=(pp[-(i+2)]-pu*C[-(i+2)])/pmp[-(i+2)]\n",
    "            C[0]=C[1]-lambdaL\n",
    "            return C\n",
    "    for i in range(4): \n",
    "        C=solve_implicit(C,pu1,pm1,pd1,lambdaL,lambdaU)\n",
    "        \n",
    "    def solve_GN(C,pu,pm,pd,lambdaU,lambdaL):\n",
    "        pmp=np.zeros(2*Nj-1)\n",
    "        pp=np.zeros(2*Nj-1)\n",
    "        pmp[0]=pm+pd \n",
    "        pp[0]=-pu*C[2]-(pm-2)*C[1]-pd*C[0]+pd*lambdaL\n",
    "        \n",
    "        for i in range(2*Nj-2):\n",
    "            pmp[i+1]=pm-pu*pd/pmp[i] \n",
    "            pp[i+1]=-pu*C[i+3]-(pm-2)*C[i+2]-pd*C[i+1]-pp[i]*pd/pmp[i]\n",
    "\n",
    "            C[-1]=(pp[-1]+pmp[-1]*lambdaU)/(pu+pmp[-1])\n",
    "            C[-2]=C[-1]-lambdaU\n",
    "            for i in range(2*Nj-2):\n",
    "                C[-(i+3)]=(pp[-(i+2)]-pu*C[-(i+2)])/pmp[-(i+2)]\n",
    "            C[0]=C[1]-lambdaL\n",
    "            return C\n",
    "    while(N>0): \n",
    "        C=solve_GN(C,pu,pm,pd,lambdaU,lambdaL)  \n",
    "        N-=1\n",
    "    return C[Nj]"
   ]
  }
 ],
 "metadata": {
  "kernelspec": {
   "display_name": "Python 3",
   "language": "python",
   "name": "python3"
  },
  "language_info": {
   "codemirror_mode": {
    "name": "ipython",
    "version": 3
   },
   "file_extension": ".py",
   "mimetype": "text/x-python",
   "name": "python",
   "nbconvert_exporter": "python",
   "pygments_lexer": "ipython3",
   "version": "3.7.1"
  }
 },
 "nbformat": 4,
 "nbformat_minor": 2
}
